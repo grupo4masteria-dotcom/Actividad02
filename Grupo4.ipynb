{
  "nbformat": 4,
  "nbformat_minor": 0,
  "metadata": {
    "colab": {
      "provenance": []
    },
    "kernelspec": {
      "name": "python3",
      "display_name": "Python 3"
    },
    "language_info": {
      "name": "python"
    }
  },
  "cells": [
    {
      "cell_type": "code",
      "execution_count": null,
      "metadata": {
        "colab": {
          "base_uri": "https://localhost:8080/"
        },
        "id": "Ty2t3GqNnvEo",
        "outputId": "22685691-e56c-4c1b-8e7e-bc42631632fd"
      },
      "outputs": [
        {
          "output_type": "stream",
          "name": "stdout",
          "text": [
            "Mounted at /content/drive\n",
            "Generating public/private rsa key pair.\n",
            "Your identification has been saved in /content/drive/MyDrive/id_rsa\n",
            "Your public key has been saved in /content/drive/MyDrive/id_rsa.pub\n",
            "The key fingerprint is:\n",
            "SHA256:UYN5aVZrQ3t+WO2qWJuC4y7T3QmOgvhmz55VDeuU3Pg grupo4masteria@gmail.com\n",
            "The key's randomart image is:\n",
            "+---[RSA 4096]----+\n",
            "|         oooo    |\n",
            "|        o.=o o  .|\n",
            "|        .+. = . o|\n",
            "|         o O + + |\n",
            "|        S B o o o|\n",
            "|         +..   o |\n",
            "|   . . ..=.oE..  |\n",
            "|  . +.+o= +oo+   |\n",
            "|   +.o=*o...+    |\n",
            "+----[SHA256]-----+\n",
            "Copia la siguiente información para crear tu acceso SSH desde gitHub\n",
            "ssh-rsa AAAAB3NzaC1yc2EAAAADAQABAAACAQCQ9TsPiaOWFEI4O8tbq4W4vLrJGdBcGJqO9pF+jiZBnSel9kqDnhhCtUVi7A6uxLM3/B2YZIlxeA+O8WSrAyNlHUNSz8NGCwrw4fYxL2rVMg4r+izezhbsM+x4B5szElqkgk26xAYusS1jUVQj0O5IkxvNlaJUCbxVNqadCfYjsJVV9yVkotMPNCy7YwQHBUmey/A9ygm86BeTTnj2PWBW8f+cSKyTcHbIgRf5VwNkFUs8pijlHUkYyB4PSI1dT/ZPVFDaPNQ+ZIZdnZ4by742xoyafv/OQlTJGWQU/avhasKiK53CVn1p8Y03WPX6z0+evEXUQTMDsux0yeG9eTvz5/VpyG8ipAYacQAkowt+ipLmCKq3oIWpK36De034B3uD9MTghsZr1RxMZsROfe+7M1yHjISqr4bLaiqb77jjNm6GQ4CfxvMnjdnko4cHwASoPIsWhYmIwAMWOAU/nlG5vr4RsCoom3M70u/rokG2g3ARL5gQeHmixkt6oBh0zkv2PwpXbWzWOGOjJ93vAucrwYPxkc7vQ43T081konj2lWBtRebHbJunh1hwRe67+Ja0Yxby9W9FQ+g+vhGV8HcgtpfbiZ6JZcThLfo3PRgN68GNTJEc6tTSgMYCCCwL0YuTHava2w+7mEKcIDM2sT9U+MpiuQxLEj9MHUMGrqwnZQ== grupo4masteria@gmail.com\n"
          ]
        }
      ],
      "source": [
        "# Montar Google Drive en Colab\n",
        "from google.colab import drive\n",
        "drive.mount('/content/drive')\n",
        "\n",
        "!ssh-keygen -t rsa -b 4096 -C \"grupo4masteria@gmail.com\" -f /content/drive/MyDrive/id_rsa -N \"\"\n",
        "print(\"Copia la siguiente información para crear tu acceso SSH desde gitHub\")\n",
        "!cat /content/drive/MyDrive/id_rsa.pub"
      ]
    },
    {
      "cell_type": "code",
      "source": [
        "from google.colab import drive\n",
        "drive.mount('/content/drive')"
      ],
      "metadata": {
        "colab": {
          "base_uri": "https://localhost:8080/"
        },
        "id": "DTUP5SyLaN2H",
        "outputId": "7003bfb8-0651-49e9-d2f3-3e3cb7b00a48"
      },
      "execution_count": null,
      "outputs": [
        {
          "output_type": "stream",
          "name": "stdout",
          "text": [
            "Mounted at /content/drive\n"
          ]
        }
      ]
    },
    {
      "cell_type": "code",
      "source": [
        "import subprocess\n",
        "import os\n",
        "# Create .ssh directory if it doesn't exist\n",
        "os.makedirs(os.path.expanduser('~/.ssh'), exist_ok=True)\n",
        "\n",
        "# Create known_hosts file if it doesn't exist\n",
        "known_hosts_path = os.path.expanduser('~/.ssh/known_hosts')\n",
        "if not os.path.exists(known_hosts_path):\n",
        "    open(known_hosts_path, 'a').close()  # Create an empty known_hosts file\n",
        "\n",
        "!ssh-keyscan -t rsa github.com >> ~/.ssh/known_hosts\n",
        "\n",
        "# Step 1: Start the SSH agent\n",
        "def start_ssh_agent():\n",
        "    # Start the SSH agent\n",
        "    process = subprocess.Popen(['ssh-agent'], stdout=subprocess.PIPE)\n",
        "    output, _ = process.communicate()\n",
        "\n",
        "    # Set environment variables for the current session\n",
        "    for line in output.decode().strip().split('\\n'):\n",
        "        if 'SSH_AUTH_SOCK' in line or 'SSH_AGENT_PID' in line:\n",
        "            key, value = line.split(';')[0].strip().split('=')\n",
        "            os.environ[key] = value\n",
        "\n",
        "# Step 2: Add your private key from Google Drive\n",
        "def add_private_key(key_path):\n",
        "    # Add the private key to the SSH agent\n",
        "    result = subprocess.run(['ssh-add', key_path], capture_output=True, text=True)\n",
        "    if result.returncode == 0:\n",
        "        print(\"SSH key added successfully.\")\n",
        "    else:\n",
        "        print(\"Error adding SSH key:\")\n",
        "        print(result.stderr)\n",
        "\n",
        "# Execute the functions\n",
        "start_ssh_agent()\n",
        "\n",
        "# Path to your private key in Google Drive\n",
        "private_key_path = '/content/drive/MyDrive/id_rsa'  # Adjust this path as necessary\n",
        "\n",
        "# Add the private key to the agent\n",
        "add_private_key(private_key_path)\n",
        "\n",
        "# Optional: Test SSH connection to GitHub\n",
        "print(\"Testing SSH connection to GitHub...\")\n",
        "test_connection = subprocess.run(['ssh', '-T', 'git@github.com'], capture_output=True, text=True)\n",
        "print(test_connection.stdout if test_connection.returncode == 0 else test_connection.stderr)"
      ],
      "metadata": {
        "id": "r83l_g4Mn-00",
        "colab": {
          "base_uri": "https://localhost:8080/"
        },
        "outputId": "8230ac4b-98a4-4cab-b25e-2e8864898d86"
      },
      "execution_count": null,
      "outputs": [
        {
          "output_type": "stream",
          "name": "stdout",
          "text": [
            "# github.com:22 SSH-2.0-88f9acd9\n",
            "SSH key added successfully.\n",
            "Testing SSH connection to GitHub...\n",
            "Hi grupo4masteria-dotcom! You've successfully authenticated, but GitHub does not provide shell access.\n",
            "\n"
          ]
        }
      ]
    }
  ]
}