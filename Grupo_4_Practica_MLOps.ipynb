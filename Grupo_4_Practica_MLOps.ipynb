{
  "nbformat": 4,
  "nbformat_minor": 0,
  "metadata": {
    "colab": {
      "provenance": []
    },
    "kernelspec": {
      "name": "python3",
      "display_name": "Python 3"
    },
    "language_info": {
      "name": "python"
    },
    "widgets": {
      "application/vnd.jupyter.widget-state+json": {
        "9693932277b5480fa89341b19d671724": {
          "model_module": "@jupyter-widgets/controls",
          "model_name": "HBoxModel",
          "model_module_version": "1.5.0",
          "state": {
            "_dom_classes": [],
            "_model_module": "@jupyter-widgets/controls",
            "_model_module_version": "1.5.0",
            "_model_name": "HBoxModel",
            "_view_count": null,
            "_view_module": "@jupyter-widgets/controls",
            "_view_module_version": "1.5.0",
            "_view_name": "HBoxView",
            "box_style": "",
            "children": [
              "IPY_MODEL_e3de9f1debdb496aadae5e8c974c938d",
              "IPY_MODEL_af09a62e9b0d4d7ebe9e286e9eb9a34c",
              "IPY_MODEL_aaf0fc9386084330866e8083ff5cfe86"
            ],
            "layout": "IPY_MODEL_be4f1405ecc8421991b829fd806bd983"
          }
        },
        "e3de9f1debdb496aadae5e8c974c938d": {
          "model_module": "@jupyter-widgets/controls",
          "model_name": "HTMLModel",
          "model_module_version": "1.5.0",
          "state": {
            "_dom_classes": [],
            "_model_module": "@jupyter-widgets/controls",
            "_model_module_version": "1.5.0",
            "_model_name": "HTMLModel",
            "_view_count": null,
            "_view_module": "@jupyter-widgets/controls",
            "_view_module_version": "1.5.0",
            "_view_name": "HTMLView",
            "description": "",
            "description_tooltip": null,
            "layout": "IPY_MODEL_482a9708494d4a0890718b09f2f74bde",
            "placeholder": "​",
            "style": "IPY_MODEL_fd108e4846c8460dad78d287c5f8a84a",
            "value": "Downloading artifacts: 100%"
          }
        },
        "af09a62e9b0d4d7ebe9e286e9eb9a34c": {
          "model_module": "@jupyter-widgets/controls",
          "model_name": "FloatProgressModel",
          "model_module_version": "1.5.0",
          "state": {
            "_dom_classes": [],
            "_model_module": "@jupyter-widgets/controls",
            "_model_module_version": "1.5.0",
            "_model_name": "FloatProgressModel",
            "_view_count": null,
            "_view_module": "@jupyter-widgets/controls",
            "_view_module_version": "1.5.0",
            "_view_name": "ProgressView",
            "bar_style": "success",
            "description": "",
            "description_tooltip": null,
            "layout": "IPY_MODEL_ee393bcffbcc4084ae9b64f9e96bac1e",
            "max": 1,
            "min": 0,
            "orientation": "horizontal",
            "style": "IPY_MODEL_64f32bf7a621406ea011e9e9d073bb2a",
            "value": 1
          }
        },
        "aaf0fc9386084330866e8083ff5cfe86": {
          "model_module": "@jupyter-widgets/controls",
          "model_name": "HTMLModel",
          "model_module_version": "1.5.0",
          "state": {
            "_dom_classes": [],
            "_model_module": "@jupyter-widgets/controls",
            "_model_module_version": "1.5.0",
            "_model_name": "HTMLModel",
            "_view_count": null,
            "_view_module": "@jupyter-widgets/controls",
            "_view_module_version": "1.5.0",
            "_view_name": "HTMLView",
            "description": "",
            "description_tooltip": null,
            "layout": "IPY_MODEL_c6f4e6bfd7a848b5b2a259a65b60259e",
            "placeholder": "​",
            "style": "IPY_MODEL_8c62090f48ca4bf0b6dac0aa345fb127",
            "value": " 1/1 [00:00&lt;00:00, 63.62it/s]"
          }
        },
        "be4f1405ecc8421991b829fd806bd983": {
          "model_module": "@jupyter-widgets/base",
          "model_name": "LayoutModel",
          "model_module_version": "1.2.0",
          "state": {
            "_model_module": "@jupyter-widgets/base",
            "_model_module_version": "1.2.0",
            "_model_name": "LayoutModel",
            "_view_count": null,
            "_view_module": "@jupyter-widgets/base",
            "_view_module_version": "1.2.0",
            "_view_name": "LayoutView",
            "align_content": null,
            "align_items": null,
            "align_self": null,
            "border": null,
            "bottom": null,
            "display": null,
            "flex": null,
            "flex_flow": null,
            "grid_area": null,
            "grid_auto_columns": null,
            "grid_auto_flow": null,
            "grid_auto_rows": null,
            "grid_column": null,
            "grid_gap": null,
            "grid_row": null,
            "grid_template_areas": null,
            "grid_template_columns": null,
            "grid_template_rows": null,
            "height": null,
            "justify_content": null,
            "justify_items": null,
            "left": null,
            "margin": null,
            "max_height": null,
            "max_width": null,
            "min_height": null,
            "min_width": null,
            "object_fit": null,
            "object_position": null,
            "order": null,
            "overflow": null,
            "overflow_x": null,
            "overflow_y": null,
            "padding": null,
            "right": null,
            "top": null,
            "visibility": null,
            "width": null
          }
        },
        "482a9708494d4a0890718b09f2f74bde": {
          "model_module": "@jupyter-widgets/base",
          "model_name": "LayoutModel",
          "model_module_version": "1.2.0",
          "state": {
            "_model_module": "@jupyter-widgets/base",
            "_model_module_version": "1.2.0",
            "_model_name": "LayoutModel",
            "_view_count": null,
            "_view_module": "@jupyter-widgets/base",
            "_view_module_version": "1.2.0",
            "_view_name": "LayoutView",
            "align_content": null,
            "align_items": null,
            "align_self": null,
            "border": null,
            "bottom": null,
            "display": null,
            "flex": null,
            "flex_flow": null,
            "grid_area": null,
            "grid_auto_columns": null,
            "grid_auto_flow": null,
            "grid_auto_rows": null,
            "grid_column": null,
            "grid_gap": null,
            "grid_row": null,
            "grid_template_areas": null,
            "grid_template_columns": null,
            "grid_template_rows": null,
            "height": null,
            "justify_content": null,
            "justify_items": null,
            "left": null,
            "margin": null,
            "max_height": null,
            "max_width": null,
            "min_height": null,
            "min_width": null,
            "object_fit": null,
            "object_position": null,
            "order": null,
            "overflow": null,
            "overflow_x": null,
            "overflow_y": null,
            "padding": null,
            "right": null,
            "top": null,
            "visibility": null,
            "width": null
          }
        },
        "fd108e4846c8460dad78d287c5f8a84a": {
          "model_module": "@jupyter-widgets/controls",
          "model_name": "DescriptionStyleModel",
          "model_module_version": "1.5.0",
          "state": {
            "_model_module": "@jupyter-widgets/controls",
            "_model_module_version": "1.5.0",
            "_model_name": "DescriptionStyleModel",
            "_view_count": null,
            "_view_module": "@jupyter-widgets/base",
            "_view_module_version": "1.2.0",
            "_view_name": "StyleView",
            "description_width": ""
          }
        },
        "ee393bcffbcc4084ae9b64f9e96bac1e": {
          "model_module": "@jupyter-widgets/base",
          "model_name": "LayoutModel",
          "model_module_version": "1.2.0",
          "state": {
            "_model_module": "@jupyter-widgets/base",
            "_model_module_version": "1.2.0",
            "_model_name": "LayoutModel",
            "_view_count": null,
            "_view_module": "@jupyter-widgets/base",
            "_view_module_version": "1.2.0",
            "_view_name": "LayoutView",
            "align_content": null,
            "align_items": null,
            "align_self": null,
            "border": null,
            "bottom": null,
            "display": null,
            "flex": null,
            "flex_flow": null,
            "grid_area": null,
            "grid_auto_columns": null,
            "grid_auto_flow": null,
            "grid_auto_rows": null,
            "grid_column": null,
            "grid_gap": null,
            "grid_row": null,
            "grid_template_areas": null,
            "grid_template_columns": null,
            "grid_template_rows": null,
            "height": null,
            "justify_content": null,
            "justify_items": null,
            "left": null,
            "margin": null,
            "max_height": null,
            "max_width": null,
            "min_height": null,
            "min_width": null,
            "object_fit": null,
            "object_position": null,
            "order": null,
            "overflow": null,
            "overflow_x": null,
            "overflow_y": null,
            "padding": null,
            "right": null,
            "top": null,
            "visibility": null,
            "width": null
          }
        },
        "64f32bf7a621406ea011e9e9d073bb2a": {
          "model_module": "@jupyter-widgets/controls",
          "model_name": "ProgressStyleModel",
          "model_module_version": "1.5.0",
          "state": {
            "_model_module": "@jupyter-widgets/controls",
            "_model_module_version": "1.5.0",
            "_model_name": "ProgressStyleModel",
            "_view_count": null,
            "_view_module": "@jupyter-widgets/base",
            "_view_module_version": "1.2.0",
            "_view_name": "StyleView",
            "bar_color": null,
            "description_width": ""
          }
        },
        "c6f4e6bfd7a848b5b2a259a65b60259e": {
          "model_module": "@jupyter-widgets/base",
          "model_name": "LayoutModel",
          "model_module_version": "1.2.0",
          "state": {
            "_model_module": "@jupyter-widgets/base",
            "_model_module_version": "1.2.0",
            "_model_name": "LayoutModel",
            "_view_count": null,
            "_view_module": "@jupyter-widgets/base",
            "_view_module_version": "1.2.0",
            "_view_name": "LayoutView",
            "align_content": null,
            "align_items": null,
            "align_self": null,
            "border": null,
            "bottom": null,
            "display": null,
            "flex": null,
            "flex_flow": null,
            "grid_area": null,
            "grid_auto_columns": null,
            "grid_auto_flow": null,
            "grid_auto_rows": null,
            "grid_column": null,
            "grid_gap": null,
            "grid_row": null,
            "grid_template_areas": null,
            "grid_template_columns": null,
            "grid_template_rows": null,
            "height": null,
            "justify_content": null,
            "justify_items": null,
            "left": null,
            "margin": null,
            "max_height": null,
            "max_width": null,
            "min_height": null,
            "min_width": null,
            "object_fit": null,
            "object_position": null,
            "order": null,
            "overflow": null,
            "overflow_x": null,
            "overflow_y": null,
            "padding": null,
            "right": null,
            "top": null,
            "visibility": null,
            "width": null
          }
        },
        "8c62090f48ca4bf0b6dac0aa345fb127": {
          "model_module": "@jupyter-widgets/controls",
          "model_name": "DescriptionStyleModel",
          "model_module_version": "1.5.0",
          "state": {
            "_model_module": "@jupyter-widgets/controls",
            "_model_module_version": "1.5.0",
            "_model_name": "DescriptionStyleModel",
            "_view_count": null,
            "_view_module": "@jupyter-widgets/base",
            "_view_module_version": "1.2.0",
            "_view_name": "StyleView",
            "description_width": ""
          }
        },
        "a85f9cb07ad740378079eb112f44f197": {
          "model_module": "@jupyter-widgets/controls",
          "model_name": "HBoxModel",
          "model_module_version": "1.5.0",
          "state": {
            "_dom_classes": [],
            "_model_module": "@jupyter-widgets/controls",
            "_model_module_version": "1.5.0",
            "_model_name": "HBoxModel",
            "_view_count": null,
            "_view_module": "@jupyter-widgets/controls",
            "_view_module_version": "1.5.0",
            "_view_name": "HBoxView",
            "box_style": "",
            "children": [
              "IPY_MODEL_a64d5099df27401aaab5a9d772b2dc31",
              "IPY_MODEL_a78a6d2947194f429ed08c03a3695845",
              "IPY_MODEL_043c542e949248ba8be32568bf4516c3"
            ],
            "layout": "IPY_MODEL_5bfff38aa72a43748f7ed97ac4265ec4"
          }
        },
        "a64d5099df27401aaab5a9d772b2dc31": {
          "model_module": "@jupyter-widgets/controls",
          "model_name": "HTMLModel",
          "model_module_version": "1.5.0",
          "state": {
            "_dom_classes": [],
            "_model_module": "@jupyter-widgets/controls",
            "_model_module_version": "1.5.0",
            "_model_name": "HTMLModel",
            "_view_count": null,
            "_view_module": "@jupyter-widgets/controls",
            "_view_module_version": "1.5.0",
            "_view_name": "HTMLView",
            "description": "",
            "description_tooltip": null,
            "layout": "IPY_MODEL_dabb9e4009364c3196a6db96110329e8",
            "placeholder": "​",
            "style": "IPY_MODEL_d9e55e8f83a64ce897f38d3ca3b7c6a7",
            "value": "Downloading artifacts: 100%"
          }
        },
        "a78a6d2947194f429ed08c03a3695845": {
          "model_module": "@jupyter-widgets/controls",
          "model_name": "FloatProgressModel",
          "model_module_version": "1.5.0",
          "state": {
            "_dom_classes": [],
            "_model_module": "@jupyter-widgets/controls",
            "_model_module_version": "1.5.0",
            "_model_name": "FloatProgressModel",
            "_view_count": null,
            "_view_module": "@jupyter-widgets/controls",
            "_view_module_version": "1.5.0",
            "_view_name": "ProgressView",
            "bar_style": "success",
            "description": "",
            "description_tooltip": null,
            "layout": "IPY_MODEL_c05159c5b08d4dafad0ffac389eaadc0",
            "max": 1,
            "min": 0,
            "orientation": "horizontal",
            "style": "IPY_MODEL_67153de4338d44f4bd5bfa1c7d292a9d",
            "value": 1
          }
        },
        "043c542e949248ba8be32568bf4516c3": {
          "model_module": "@jupyter-widgets/controls",
          "model_name": "HTMLModel",
          "model_module_version": "1.5.0",
          "state": {
            "_dom_classes": [],
            "_model_module": "@jupyter-widgets/controls",
            "_model_module_version": "1.5.0",
            "_model_name": "HTMLModel",
            "_view_count": null,
            "_view_module": "@jupyter-widgets/controls",
            "_view_module_version": "1.5.0",
            "_view_name": "HTMLView",
            "description": "",
            "description_tooltip": null,
            "layout": "IPY_MODEL_d75e0aefefea4a66baaf52be9549b5b4",
            "placeholder": "​",
            "style": "IPY_MODEL_6437d3da12a44904835598458cb9b244",
            "value": " 1/1 [00:00&lt;00:00, 58.64it/s]"
          }
        },
        "5bfff38aa72a43748f7ed97ac4265ec4": {
          "model_module": "@jupyter-widgets/base",
          "model_name": "LayoutModel",
          "model_module_version": "1.2.0",
          "state": {
            "_model_module": "@jupyter-widgets/base",
            "_model_module_version": "1.2.0",
            "_model_name": "LayoutModel",
            "_view_count": null,
            "_view_module": "@jupyter-widgets/base",
            "_view_module_version": "1.2.0",
            "_view_name": "LayoutView",
            "align_content": null,
            "align_items": null,
            "align_self": null,
            "border": null,
            "bottom": null,
            "display": null,
            "flex": null,
            "flex_flow": null,
            "grid_area": null,
            "grid_auto_columns": null,
            "grid_auto_flow": null,
            "grid_auto_rows": null,
            "grid_column": null,
            "grid_gap": null,
            "grid_row": null,
            "grid_template_areas": null,
            "grid_template_columns": null,
            "grid_template_rows": null,
            "height": null,
            "justify_content": null,
            "justify_items": null,
            "left": null,
            "margin": null,
            "max_height": null,
            "max_width": null,
            "min_height": null,
            "min_width": null,
            "object_fit": null,
            "object_position": null,
            "order": null,
            "overflow": null,
            "overflow_x": null,
            "overflow_y": null,
            "padding": null,
            "right": null,
            "top": null,
            "visibility": null,
            "width": null
          }
        },
        "dabb9e4009364c3196a6db96110329e8": {
          "model_module": "@jupyter-widgets/base",
          "model_name": "LayoutModel",
          "model_module_version": "1.2.0",
          "state": {
            "_model_module": "@jupyter-widgets/base",
            "_model_module_version": "1.2.0",
            "_model_name": "LayoutModel",
            "_view_count": null,
            "_view_module": "@jupyter-widgets/base",
            "_view_module_version": "1.2.0",
            "_view_name": "LayoutView",
            "align_content": null,
            "align_items": null,
            "align_self": null,
            "border": null,
            "bottom": null,
            "display": null,
            "flex": null,
            "flex_flow": null,
            "grid_area": null,
            "grid_auto_columns": null,
            "grid_auto_flow": null,
            "grid_auto_rows": null,
            "grid_column": null,
            "grid_gap": null,
            "grid_row": null,
            "grid_template_areas": null,
            "grid_template_columns": null,
            "grid_template_rows": null,
            "height": null,
            "justify_content": null,
            "justify_items": null,
            "left": null,
            "margin": null,
            "max_height": null,
            "max_width": null,
            "min_height": null,
            "min_width": null,
            "object_fit": null,
            "object_position": null,
            "order": null,
            "overflow": null,
            "overflow_x": null,
            "overflow_y": null,
            "padding": null,
            "right": null,
            "top": null,
            "visibility": null,
            "width": null
          }
        },
        "d9e55e8f83a64ce897f38d3ca3b7c6a7": {
          "model_module": "@jupyter-widgets/controls",
          "model_name": "DescriptionStyleModel",
          "model_module_version": "1.5.0",
          "state": {
            "_model_module": "@jupyter-widgets/controls",
            "_model_module_version": "1.5.0",
            "_model_name": "DescriptionStyleModel",
            "_view_count": null,
            "_view_module": "@jupyter-widgets/base",
            "_view_module_version": "1.2.0",
            "_view_name": "StyleView",
            "description_width": ""
          }
        },
        "c05159c5b08d4dafad0ffac389eaadc0": {
          "model_module": "@jupyter-widgets/base",
          "model_name": "LayoutModel",
          "model_module_version": "1.2.0",
          "state": {
            "_model_module": "@jupyter-widgets/base",
            "_model_module_version": "1.2.0",
            "_model_name": "LayoutModel",
            "_view_count": null,
            "_view_module": "@jupyter-widgets/base",
            "_view_module_version": "1.2.0",
            "_view_name": "LayoutView",
            "align_content": null,
            "align_items": null,
            "align_self": null,
            "border": null,
            "bottom": null,
            "display": null,
            "flex": null,
            "flex_flow": null,
            "grid_area": null,
            "grid_auto_columns": null,
            "grid_auto_flow": null,
            "grid_auto_rows": null,
            "grid_column": null,
            "grid_gap": null,
            "grid_row": null,
            "grid_template_areas": null,
            "grid_template_columns": null,
            "grid_template_rows": null,
            "height": null,
            "justify_content": null,
            "justify_items": null,
            "left": null,
            "margin": null,
            "max_height": null,
            "max_width": null,
            "min_height": null,
            "min_width": null,
            "object_fit": null,
            "object_position": null,
            "order": null,
            "overflow": null,
            "overflow_x": null,
            "overflow_y": null,
            "padding": null,
            "right": null,
            "top": null,
            "visibility": null,
            "width": null
          }
        },
        "67153de4338d44f4bd5bfa1c7d292a9d": {
          "model_module": "@jupyter-widgets/controls",
          "model_name": "ProgressStyleModel",
          "model_module_version": "1.5.0",
          "state": {
            "_model_module": "@jupyter-widgets/controls",
            "_model_module_version": "1.5.0",
            "_model_name": "ProgressStyleModel",
            "_view_count": null,
            "_view_module": "@jupyter-widgets/base",
            "_view_module_version": "1.2.0",
            "_view_name": "StyleView",
            "bar_color": null,
            "description_width": ""
          }
        },
        "d75e0aefefea4a66baaf52be9549b5b4": {
          "model_module": "@jupyter-widgets/base",
          "model_name": "LayoutModel",
          "model_module_version": "1.2.0",
          "state": {
            "_model_module": "@jupyter-widgets/base",
            "_model_module_version": "1.2.0",
            "_model_name": "LayoutModel",
            "_view_count": null,
            "_view_module": "@jupyter-widgets/base",
            "_view_module_version": "1.2.0",
            "_view_name": "LayoutView",
            "align_content": null,
            "align_items": null,
            "align_self": null,
            "border": null,
            "bottom": null,
            "display": null,
            "flex": null,
            "flex_flow": null,
            "grid_area": null,
            "grid_auto_columns": null,
            "grid_auto_flow": null,
            "grid_auto_rows": null,
            "grid_column": null,
            "grid_gap": null,
            "grid_row": null,
            "grid_template_areas": null,
            "grid_template_columns": null,
            "grid_template_rows": null,
            "height": null,
            "justify_content": null,
            "justify_items": null,
            "left": null,
            "margin": null,
            "max_height": null,
            "max_width": null,
            "min_height": null,
            "min_width": null,
            "object_fit": null,
            "object_position": null,
            "order": null,
            "overflow": null,
            "overflow_x": null,
            "overflow_y": null,
            "padding": null,
            "right": null,
            "top": null,
            "visibility": null,
            "width": null
          }
        },
        "6437d3da12a44904835598458cb9b244": {
          "model_module": "@jupyter-widgets/controls",
          "model_name": "DescriptionStyleModel",
          "model_module_version": "1.5.0",
          "state": {
            "_model_module": "@jupyter-widgets/controls",
            "_model_module_version": "1.5.0",
            "_model_name": "DescriptionStyleModel",
            "_view_count": null,
            "_view_module": "@jupyter-widgets/base",
            "_view_module_version": "1.2.0",
            "_view_name": "StyleView",
            "description_width": ""
          }
        }
      }
    }
  },
  "cells": [
    {
      "cell_type": "markdown",
      "source": [
        "En esta actividad veremos un caso práctico sobre cómo se guardan y controlan las distintas versiones de los modelos empleando MLfow y GitHub. <br>\n",
        "\n",
        "Primero, vamos a necesitar cargar una serie de librerías que serán de utilidad para la carga de los modelos, reentrenamiento en el caso de ser necesario y actualización en el repositorio final."
      ],
      "metadata": {
        "id": "B8vOkbdltAjz"
      }
    },
    {
      "cell_type": "code",
      "source": [
        "#Instalar librerías necesarias con sus versiones\n",
        "!pip uninstall -y scikit-learn\n",
        "!pip uninstall -y smlflow\n",
        "\n",
        "!pip install scikit-learn==1.3.1\n",
        "!pip install mlflow==2.19.0\n",
        "!pip install flask\n",
        "!pip install pyngrok\n",
        "!pip install pandas==2.2.2\n",
        "!pip install numpy==1.26.4\n",
        "!pip install re==2.2.1\n",
        "!pip install nltk==3.9.1\n",
        "!pip install seaborn==0.13.2"
      ],
      "metadata": {
        "collapsed": true,
        "id": "yTWJLTykc7AR",
        "colab": {
          "base_uri": "https://localhost:8080/"
        },
        "outputId": "4b04f9e4-43a0-41c9-d5bf-52ba617ff8c6"
      },
      "execution_count": null,
      "outputs": [
        {
          "output_type": "stream",
          "name": "stdout",
          "text": [
            "Found existing installation: scikit-learn 1.3.1\n",
            "Uninstalling scikit-learn-1.3.1:\n",
            "  Successfully uninstalled scikit-learn-1.3.1\n",
            "\u001b[33mWARNING: Skipping smlflow as it is not installed.\u001b[0m\u001b[33m\n",
            "\u001b[0mCollecting scikit-learn==1.3.1\n",
            "  Using cached scikit_learn-1.3.1-cp312-cp312-manylinux_2_17_x86_64.manylinux2014_x86_64.whl.metadata (11 kB)\n",
            "Requirement already satisfied: numpy<2.0,>=1.17.3 in /usr/local/lib/python3.12/dist-packages (from scikit-learn==1.3.1) (1.26.4)\n",
            "Requirement already satisfied: scipy>=1.5.0 in /usr/local/lib/python3.12/dist-packages (from scikit-learn==1.3.1) (1.16.1)\n",
            "Requirement already satisfied: joblib>=1.1.1 in /usr/local/lib/python3.12/dist-packages (from scikit-learn==1.3.1) (1.5.1)\n",
            "Requirement already satisfied: threadpoolctl>=2.0.0 in /usr/local/lib/python3.12/dist-packages (from scikit-learn==1.3.1) (3.6.0)\n",
            "Using cached scikit_learn-1.3.1-cp312-cp312-manylinux_2_17_x86_64.manylinux2014_x86_64.whl (10.8 MB)\n",
            "Installing collected packages: scikit-learn\n",
            "\u001b[31mERROR: pip's dependency resolver does not currently take into account all the packages that are installed. This behaviour is the source of the following dependency conflicts.\n",
            "cuml-cu12 25.6.0 requires scikit-learn>=1.5, but you have scikit-learn 1.3.1 which is incompatible.\n",
            "imbalanced-learn 0.14.0 requires scikit-learn<2,>=1.4.2, but you have scikit-learn 1.3.1 which is incompatible.\n",
            "umap-learn 0.5.9.post2 requires scikit-learn>=1.6, but you have scikit-learn 1.3.1 which is incompatible.\u001b[0m\u001b[31m\n",
            "\u001b[0mSuccessfully installed scikit-learn-1.3.1\n",
            "Requirement already satisfied: mlflow==2.19.0 in /usr/local/lib/python3.12/dist-packages (2.19.0)\n",
            "Requirement already satisfied: mlflow-skinny==2.19.0 in /usr/local/lib/python3.12/dist-packages (from mlflow==2.19.0) (2.19.0)\n",
            "Requirement already satisfied: Flask<4 in /usr/local/lib/python3.12/dist-packages (from mlflow==2.19.0) (3.1.2)\n",
            "Requirement already satisfied: Jinja2<4,>=2.11 in /usr/local/lib/python3.12/dist-packages (from mlflow==2.19.0) (3.1.6)\n",
            "Requirement already satisfied: alembic!=1.10.0,<2 in /usr/local/lib/python3.12/dist-packages (from mlflow==2.19.0) (1.16.5)\n",
            "Requirement already satisfied: docker<8,>=4.0.0 in /usr/local/lib/python3.12/dist-packages (from mlflow==2.19.0) (7.1.0)\n",
            "Requirement already satisfied: graphene<4 in /usr/local/lib/python3.12/dist-packages (from mlflow==2.19.0) (3.4.3)\n",
            "Requirement already satisfied: gunicorn<24 in /usr/local/lib/python3.12/dist-packages (from mlflow==2.19.0) (23.0.0)\n",
            "Requirement already satisfied: markdown<4,>=3.3 in /usr/local/lib/python3.12/dist-packages (from mlflow==2.19.0) (3.8.2)\n",
            "Requirement already satisfied: matplotlib<4 in /usr/local/lib/python3.12/dist-packages (from mlflow==2.19.0) (3.10.0)\n",
            "Requirement already satisfied: numpy<3 in /usr/local/lib/python3.12/dist-packages (from mlflow==2.19.0) (1.26.4)\n",
            "Requirement already satisfied: pandas<3 in /usr/local/lib/python3.12/dist-packages (from mlflow==2.19.0) (2.2.2)\n",
            "Requirement already satisfied: pyarrow<19,>=4.0.0 in /usr/local/lib/python3.12/dist-packages (from mlflow==2.19.0) (18.1.0)\n",
            "Requirement already satisfied: scikit-learn<2 in /usr/local/lib/python3.12/dist-packages (from mlflow==2.19.0) (1.3.1)\n",
            "Requirement already satisfied: scipy<2 in /usr/local/lib/python3.12/dist-packages (from mlflow==2.19.0) (1.16.1)\n",
            "Requirement already satisfied: sqlalchemy<3,>=1.4.0 in /usr/local/lib/python3.12/dist-packages (from mlflow==2.19.0) (2.0.43)\n",
            "Requirement already satisfied: cachetools<6,>=5.0.0 in /usr/local/lib/python3.12/dist-packages (from mlflow-skinny==2.19.0->mlflow==2.19.0) (5.5.2)\n",
            "Requirement already satisfied: click<9,>=7.0 in /usr/local/lib/python3.12/dist-packages (from mlflow-skinny==2.19.0->mlflow==2.19.0) (8.2.1)\n",
            "Requirement already satisfied: cloudpickle<4 in /usr/local/lib/python3.12/dist-packages (from mlflow-skinny==2.19.0->mlflow==2.19.0) (3.1.1)\n",
            "Requirement already satisfied: databricks-sdk<1,>=0.20.0 in /usr/local/lib/python3.12/dist-packages (from mlflow-skinny==2.19.0->mlflow==2.19.0) (0.64.0)\n",
            "Requirement already satisfied: gitpython<4,>=3.1.9 in /usr/local/lib/python3.12/dist-packages (from mlflow-skinny==2.19.0->mlflow==2.19.0) (3.1.45)\n",
            "Requirement already satisfied: importlib_metadata!=4.7.0,<9,>=3.7.0 in /usr/local/lib/python3.12/dist-packages (from mlflow-skinny==2.19.0->mlflow==2.19.0) (8.7.0)\n",
            "Requirement already satisfied: opentelemetry-api<3,>=1.9.0 in /usr/local/lib/python3.12/dist-packages (from mlflow-skinny==2.19.0->mlflow==2.19.0) (1.36.0)\n",
            "Requirement already satisfied: opentelemetry-sdk<3,>=1.9.0 in /usr/local/lib/python3.12/dist-packages (from mlflow-skinny==2.19.0->mlflow==2.19.0) (1.36.0)\n",
            "Requirement already satisfied: packaging<25 in /usr/local/lib/python3.12/dist-packages (from mlflow-skinny==2.19.0->mlflow==2.19.0) (24.2)\n",
            "Requirement already satisfied: protobuf<6,>=3.12.0 in /usr/local/lib/python3.12/dist-packages (from mlflow-skinny==2.19.0->mlflow==2.19.0) (5.29.5)\n",
            "Requirement already satisfied: pyyaml<7,>=5.1 in /usr/local/lib/python3.12/dist-packages (from mlflow-skinny==2.19.0->mlflow==2.19.0) (6.0.2)\n",
            "Requirement already satisfied: requests<3,>=2.17.3 in /usr/local/lib/python3.12/dist-packages (from mlflow-skinny==2.19.0->mlflow==2.19.0) (2.32.4)\n",
            "Requirement already satisfied: sqlparse<1,>=0.4.0 in /usr/local/lib/python3.12/dist-packages (from mlflow-skinny==2.19.0->mlflow==2.19.0) (0.5.3)\n",
            "Requirement already satisfied: Mako in /usr/lib/python3/dist-packages (from alembic!=1.10.0,<2->mlflow==2.19.0) (1.1.3)\n",
            "Requirement already satisfied: typing-extensions>=4.12 in /usr/local/lib/python3.12/dist-packages (from alembic!=1.10.0,<2->mlflow==2.19.0) (4.15.0)\n",
            "Requirement already satisfied: urllib3>=1.26.0 in /usr/local/lib/python3.12/dist-packages (from docker<8,>=4.0.0->mlflow==2.19.0) (2.5.0)\n",
            "Requirement already satisfied: blinker>=1.9.0 in /usr/local/lib/python3.12/dist-packages (from Flask<4->mlflow==2.19.0) (1.9.0)\n",
            "Requirement already satisfied: itsdangerous>=2.2.0 in /usr/local/lib/python3.12/dist-packages (from Flask<4->mlflow==2.19.0) (2.2.0)\n",
            "Requirement already satisfied: markupsafe>=2.1.1 in /usr/local/lib/python3.12/dist-packages (from Flask<4->mlflow==2.19.0) (3.0.2)\n",
            "Requirement already satisfied: werkzeug>=3.1.0 in /usr/local/lib/python3.12/dist-packages (from Flask<4->mlflow==2.19.0) (3.1.3)\n",
            "Requirement already satisfied: graphql-core<3.3,>=3.1 in /usr/local/lib/python3.12/dist-packages (from graphene<4->mlflow==2.19.0) (3.2.6)\n",
            "Requirement already satisfied: graphql-relay<3.3,>=3.1 in /usr/local/lib/python3.12/dist-packages (from graphene<4->mlflow==2.19.0) (3.2.0)\n",
            "Requirement already satisfied: python-dateutil<3,>=2.7.0 in /usr/local/lib/python3.12/dist-packages (from graphene<4->mlflow==2.19.0) (2.9.0.post0)\n",
            "Requirement already satisfied: contourpy>=1.0.1 in /usr/local/lib/python3.12/dist-packages (from matplotlib<4->mlflow==2.19.0) (1.3.3)\n",
            "Requirement already satisfied: cycler>=0.10 in /usr/local/lib/python3.12/dist-packages (from matplotlib<4->mlflow==2.19.0) (0.12.1)\n",
            "Requirement already satisfied: fonttools>=4.22.0 in /usr/local/lib/python3.12/dist-packages (from matplotlib<4->mlflow==2.19.0) (4.59.1)\n",
            "Requirement already satisfied: kiwisolver>=1.3.1 in /usr/local/lib/python3.12/dist-packages (from matplotlib<4->mlflow==2.19.0) (1.4.9)\n",
            "Requirement already satisfied: pillow>=8 in /usr/local/lib/python3.12/dist-packages (from matplotlib<4->mlflow==2.19.0) (11.3.0)\n",
            "Requirement already satisfied: pyparsing>=2.3.1 in /usr/local/lib/python3.12/dist-packages (from matplotlib<4->mlflow==2.19.0) (3.2.3)\n",
            "Requirement already satisfied: pytz>=2020.1 in /usr/local/lib/python3.12/dist-packages (from pandas<3->mlflow==2.19.0) (2025.2)\n",
            "Requirement already satisfied: tzdata>=2022.7 in /usr/local/lib/python3.12/dist-packages (from pandas<3->mlflow==2.19.0) (2025.2)\n",
            "Requirement already satisfied: joblib>=1.1.1 in /usr/local/lib/python3.12/dist-packages (from scikit-learn<2->mlflow==2.19.0) (1.5.1)\n",
            "Requirement already satisfied: threadpoolctl>=2.0.0 in /usr/local/lib/python3.12/dist-packages (from scikit-learn<2->mlflow==2.19.0) (3.6.0)\n",
            "Requirement already satisfied: greenlet>=1 in /usr/local/lib/python3.12/dist-packages (from sqlalchemy<3,>=1.4.0->mlflow==2.19.0) (3.2.4)\n",
            "Requirement already satisfied: google-auth~=2.0 in /usr/local/lib/python3.12/dist-packages (from databricks-sdk<1,>=0.20.0->mlflow-skinny==2.19.0->mlflow==2.19.0) (2.38.0)\n",
            "Requirement already satisfied: gitdb<5,>=4.0.1 in /usr/local/lib/python3.12/dist-packages (from gitpython<4,>=3.1.9->mlflow-skinny==2.19.0->mlflow==2.19.0) (4.0.12)\n",
            "Requirement already satisfied: zipp>=3.20 in /usr/local/lib/python3.12/dist-packages (from importlib_metadata!=4.7.0,<9,>=3.7.0->mlflow-skinny==2.19.0->mlflow==2.19.0) (3.23.0)\n",
            "Requirement already satisfied: opentelemetry-semantic-conventions==0.57b0 in /usr/local/lib/python3.12/dist-packages (from opentelemetry-sdk<3,>=1.9.0->mlflow-skinny==2.19.0->mlflow==2.19.0) (0.57b0)\n",
            "Requirement already satisfied: six>=1.5 in /usr/local/lib/python3.12/dist-packages (from python-dateutil<3,>=2.7.0->graphene<4->mlflow==2.19.0) (1.17.0)\n",
            "Requirement already satisfied: charset_normalizer<4,>=2 in /usr/local/lib/python3.12/dist-packages (from requests<3,>=2.17.3->mlflow-skinny==2.19.0->mlflow==2.19.0) (3.4.3)\n",
            "Requirement already satisfied: idna<4,>=2.5 in /usr/local/lib/python3.12/dist-packages (from requests<3,>=2.17.3->mlflow-skinny==2.19.0->mlflow==2.19.0) (3.10)\n",
            "Requirement already satisfied: certifi>=2017.4.17 in /usr/local/lib/python3.12/dist-packages (from requests<3,>=2.17.3->mlflow-skinny==2.19.0->mlflow==2.19.0) (2025.8.3)\n",
            "Requirement already satisfied: smmap<6,>=3.0.1 in /usr/local/lib/python3.12/dist-packages (from gitdb<5,>=4.0.1->gitpython<4,>=3.1.9->mlflow-skinny==2.19.0->mlflow==2.19.0) (5.0.2)\n",
            "Requirement already satisfied: pyasn1-modules>=0.2.1 in /usr/local/lib/python3.12/dist-packages (from google-auth~=2.0->databricks-sdk<1,>=0.20.0->mlflow-skinny==2.19.0->mlflow==2.19.0) (0.4.2)\n",
            "Requirement already satisfied: rsa<5,>=3.1.4 in /usr/local/lib/python3.12/dist-packages (from google-auth~=2.0->databricks-sdk<1,>=0.20.0->mlflow-skinny==2.19.0->mlflow==2.19.0) (4.9.1)\n",
            "Requirement already satisfied: pyasn1<0.7.0,>=0.6.1 in /usr/local/lib/python3.12/dist-packages (from pyasn1-modules>=0.2.1->google-auth~=2.0->databricks-sdk<1,>=0.20.0->mlflow-skinny==2.19.0->mlflow==2.19.0) (0.6.1)\n",
            "Requirement already satisfied: flask in /usr/local/lib/python3.12/dist-packages (3.1.2)\n",
            "Requirement already satisfied: blinker>=1.9.0 in /usr/local/lib/python3.12/dist-packages (from flask) (1.9.0)\n",
            "Requirement already satisfied: click>=8.1.3 in /usr/local/lib/python3.12/dist-packages (from flask) (8.2.1)\n",
            "Requirement already satisfied: itsdangerous>=2.2.0 in /usr/local/lib/python3.12/dist-packages (from flask) (2.2.0)\n",
            "Requirement already satisfied: jinja2>=3.1.2 in /usr/local/lib/python3.12/dist-packages (from flask) (3.1.6)\n",
            "Requirement already satisfied: markupsafe>=2.1.1 in /usr/local/lib/python3.12/dist-packages (from flask) (3.0.2)\n",
            "Requirement already satisfied: werkzeug>=3.1.0 in /usr/local/lib/python3.12/dist-packages (from flask) (3.1.3)\n",
            "Requirement already satisfied: pyngrok in /usr/local/lib/python3.12/dist-packages (7.3.0)\n",
            "Requirement already satisfied: PyYAML>=5.1 in /usr/local/lib/python3.12/dist-packages (from pyngrok) (6.0.2)\n",
            "Requirement already satisfied: pandas==2.2.2 in /usr/local/lib/python3.12/dist-packages (2.2.2)\n",
            "Requirement already satisfied: numpy>=1.26.0 in /usr/local/lib/python3.12/dist-packages (from pandas==2.2.2) (1.26.4)\n",
            "Requirement already satisfied: python-dateutil>=2.8.2 in /usr/local/lib/python3.12/dist-packages (from pandas==2.2.2) (2.9.0.post0)\n",
            "Requirement already satisfied: pytz>=2020.1 in /usr/local/lib/python3.12/dist-packages (from pandas==2.2.2) (2025.2)\n",
            "Requirement already satisfied: tzdata>=2022.7 in /usr/local/lib/python3.12/dist-packages (from pandas==2.2.2) (2025.2)\n",
            "Requirement already satisfied: six>=1.5 in /usr/local/lib/python3.12/dist-packages (from python-dateutil>=2.8.2->pandas==2.2.2) (1.17.0)\n",
            "Requirement already satisfied: numpy==1.26.4 in /usr/local/lib/python3.12/dist-packages (1.26.4)\n",
            "\u001b[31mERROR: Could not find a version that satisfies the requirement re==2.2.1 (from versions: none)\u001b[0m\u001b[31m\n",
            "\u001b[0m\u001b[31mERROR: No matching distribution found for re==2.2.1\u001b[0m\u001b[31m\n",
            "\u001b[0mRequirement already satisfied: nltk==3.9.1 in /usr/local/lib/python3.12/dist-packages (3.9.1)\n",
            "Requirement already satisfied: click in /usr/local/lib/python3.12/dist-packages (from nltk==3.9.1) (8.2.1)\n",
            "Requirement already satisfied: joblib in /usr/local/lib/python3.12/dist-packages (from nltk==3.9.1) (1.5.1)\n",
            "Requirement already satisfied: regex>=2021.8.3 in /usr/local/lib/python3.12/dist-packages (from nltk==3.9.1) (2024.11.6)\n",
            "Requirement already satisfied: tqdm in /usr/local/lib/python3.12/dist-packages (from nltk==3.9.1) (4.67.1)\n",
            "Requirement already satisfied: seaborn==0.13.2 in /usr/local/lib/python3.12/dist-packages (0.13.2)\n",
            "Requirement already satisfied: numpy!=1.24.0,>=1.20 in /usr/local/lib/python3.12/dist-packages (from seaborn==0.13.2) (1.26.4)\n",
            "Requirement already satisfied: pandas>=1.2 in /usr/local/lib/python3.12/dist-packages (from seaborn==0.13.2) (2.2.2)\n",
            "Requirement already satisfied: matplotlib!=3.6.1,>=3.4 in /usr/local/lib/python3.12/dist-packages (from seaborn==0.13.2) (3.10.0)\n",
            "Requirement already satisfied: contourpy>=1.0.1 in /usr/local/lib/python3.12/dist-packages (from matplotlib!=3.6.1,>=3.4->seaborn==0.13.2) (1.3.3)\n",
            "Requirement already satisfied: cycler>=0.10 in /usr/local/lib/python3.12/dist-packages (from matplotlib!=3.6.1,>=3.4->seaborn==0.13.2) (0.12.1)\n",
            "Requirement already satisfied: fonttools>=4.22.0 in /usr/local/lib/python3.12/dist-packages (from matplotlib!=3.6.1,>=3.4->seaborn==0.13.2) (4.59.1)\n",
            "Requirement already satisfied: kiwisolver>=1.3.1 in /usr/local/lib/python3.12/dist-packages (from matplotlib!=3.6.1,>=3.4->seaborn==0.13.2) (1.4.9)\n",
            "Requirement already satisfied: packaging>=20.0 in /usr/local/lib/python3.12/dist-packages (from matplotlib!=3.6.1,>=3.4->seaborn==0.13.2) (24.2)\n",
            "Requirement already satisfied: pillow>=8 in /usr/local/lib/python3.12/dist-packages (from matplotlib!=3.6.1,>=3.4->seaborn==0.13.2) (11.3.0)\n",
            "Requirement already satisfied: pyparsing>=2.3.1 in /usr/local/lib/python3.12/dist-packages (from matplotlib!=3.6.1,>=3.4->seaborn==0.13.2) (3.2.3)\n",
            "Requirement already satisfied: python-dateutil>=2.7 in /usr/local/lib/python3.12/dist-packages (from matplotlib!=3.6.1,>=3.4->seaborn==0.13.2) (2.9.0.post0)\n",
            "Requirement already satisfied: pytz>=2020.1 in /usr/local/lib/python3.12/dist-packages (from pandas>=1.2->seaborn==0.13.2) (2025.2)\n",
            "Requirement already satisfied: tzdata>=2022.7 in /usr/local/lib/python3.12/dist-packages (from pandas>=1.2->seaborn==0.13.2) (2025.2)\n",
            "Requirement already satisfied: six>=1.5 in /usr/local/lib/python3.12/dist-packages (from python-dateutil>=2.7->matplotlib!=3.6.1,>=3.4->seaborn==0.13.2) (1.17.0)\n"
          ]
        }
      ]
    },
    {
      "cell_type": "code",
      "execution_count": null,
      "metadata": {
        "id": "i5PMp0zJbBF9"
      },
      "outputs": [],
      "source": [
        "# Cargar librerías Python\n",
        "import pandas as pd\n",
        "import numpy as np\n",
        "import re\n",
        "import nltk\n",
        "import os\n",
        "\n",
        "from datetime import datetime\n",
        "from nltk.corpus import stopwords\n",
        "from nltk.stem import PorterStemmer\n",
        "from joblib import load\n",
        "from joblib import dump\n",
        "\n",
        "import seaborn as sns\n",
        "import matplotlib.pyplot as plt\n",
        "\n",
        "import mlflow\n",
        "from mlflow.pyfunc import PythonModel\n",
        "from sklearn.compose import ColumnTransformer, make_column_transformer\n",
        "from sklearn.feature_extraction.text import TfidfVectorizer\n",
        "from sklearn.pipeline import Pipeline\n",
        "from sklearn.preprocessing import OneHotEncoder\n",
        "from sklearn.decomposition import LatentDirichletAllocation\n",
        "from sklearn.metrics import confusion_matrix, classification_report, accuracy_score, roc_auc_score\n",
        "from sklearn.model_selection import train_test_split\n",
        "\n",
        "from xgboost import XGBClassifier\n",
        "\n",
        "import warnings\n",
        "warnings.filterwarnings('ignore')"
      ]
    },
    {
      "cell_type": "code",
      "source": [
        "# Montar Google Drive en Colab\n",
        "from google.colab import drive\n",
        "drive.mount('/content/drive')"
      ],
      "metadata": {
        "colab": {
          "base_uri": "https://localhost:8080/"
        },
        "id": "T1lmAFyletMy",
        "outputId": "518dfbaa-c354-48f3-8d79-410f81b4c45e"
      },
      "execution_count": null,
      "outputs": [
        {
          "output_type": "stream",
          "name": "stdout",
          "text": [
            "Mounted at /content/drive\n"
          ]
        }
      ]
    },
    {
      "cell_type": "code",
      "source": [
        "from google.colab import drive\n",
        "drive.mount('/content/drive')"
      ],
      "metadata": {
        "id": "HFoJnGUfrUrB",
        "colab": {
          "base_uri": "https://localhost:8080/"
        },
        "outputId": "8edda7df-4183-41f5-b7bc-82618e88478f"
      },
      "execution_count": null,
      "outputs": [
        {
          "output_type": "stream",
          "name": "stdout",
          "text": [
            "Drive already mounted at /content/drive; to attempt to forcibly remount, call drive.mount(\"/content/drive\", force_remount=True).\n"
          ]
        }
      ]
    },
    {
      "cell_type": "markdown",
      "source": [
        "# **1.** Cargar el primer modelo y hacerlo compatible con MLflow\n",
        "\n",
        "\n",
        "Tenemos de localizar el modelo que ya estaba entrenado en la actividad anterior y cargarlo aquí.\n",
        "\n",
        "Esto sólo tendremos que hacerlo una vez <br>\n",
        "Primero, tenemos que crear un repositorio en GitHub: https://github.com/ y añadir dos carpetas: modelos y datasets.\n",
        "<br>\n",
        "La carpeta modelos contendrá los archivos generados en la actividad anterior.\n",
        "<br>\n",
        "La carpeta datasets contendrá los archivos csv que usaremos para entrenar y aplicar los modelos."
      ],
      "metadata": {
        "id": "TxYkJA_ShJgU"
      }
    },
    {
      "cell_type": "code",
      "source": [
        "# Vamos a realizar una copia de todo el directorio original que tenemos en GitHub\n",
        "!git clone https://github.com/prof-apartida/Practica.git\n",
        "\n",
        "'''\n",
        "En el caso que hayamos modificado algo en el repositorio original en Git y queramos refrescar,\n",
        "ejecuta las siguientes dos líneas de código:\n",
        "'''\n",
        "#!rm -rf Practica\n",
        "#!git clone https://github.com/prof-apartida/Practica.git"
      ],
      "metadata": {
        "id": "fIWGpL0thQHt",
        "colab": {
          "base_uri": "https://localhost:8080/",
          "height": 157
        },
        "outputId": "cb4ebc0c-fe69-45d5-8575-b725ad876b2a"
      },
      "execution_count": null,
      "outputs": [
        {
          "output_type": "stream",
          "name": "stdout",
          "text": [
            "Cloning into 'Practica'...\n",
            "remote: Enumerating objects: 442, done.\u001b[K\n",
            "remote: Counting objects: 100% (101/101), done.\u001b[K\n",
            "remote: Compressing objects: 100% (69/69), done.\u001b[K\n",
            "remote: Total 442 (delta 38), reused 79 (delta 22), pack-reused 341 (from 1)\u001b[K\n",
            "Receiving objects: 100% (442/442), 4.49 MiB | 19.67 MiB/s, done.\n",
            "Resolving deltas: 100% (171/171), done.\n"
          ]
        },
        {
          "output_type": "execute_result",
          "data": {
            "text/plain": [
              "'\\nEn el caso que hayamos modificado algo en el repositorio original en Git y queramos refrescar,\\nejecuta las siguientes dos líneas de código:\\n'"
            ],
            "application/vnd.google.colaboratory.intrinsic+json": {
              "type": "string"
            }
          },
          "metadata": {},
          "execution_count": 5
        }
      ]
    },
    {
      "cell_type": "code",
      "source": [
        "# Nos aseguramos que los directorios necesarios existen:\n",
        "os.makedirs('/content/Practica/mlflow', exist_ok=True)\n",
        "os.makedirs('/content/Practica/mlflow/.trash', exist_ok=True)\n",
        "\n",
        "# Vamos a definir dónde se cargarán los modelos que tendrán cambios\n",
        "os.environ['MLFLOW_TRACKING_URI'] = '/content/Practica/mlflow'\n",
        "mlflow.set_tracking_uri('file:/content/Practica/mlflow')\n",
        "\n",
        "# Vamos a crear un experimento donde se guardarán todos los resultados que tuvimos en la práctica anterior\n",
        "if not mlflow.get_experiment_by_name('Practica'):\n",
        "    experiment = mlflow.create_experiment('Practica')\n",
        "else:\n",
        "    experiment = mlflow.get_experiment_by_name('Practica').experiment_id\n",
        "print(experiment)"
      ],
      "metadata": {
        "id": "lseAhjh6KVkY",
        "colab": {
          "base_uri": "https://localhost:8080/"
        },
        "outputId": "c0122ad9-abbe-4504-8b94-bd4e21001db5"
      },
      "execution_count": null,
      "outputs": [
        {
          "output_type": "stream",
          "name": "stdout",
          "text": [
            "568786323053391264\n"
          ]
        }
      ]
    },
    {
      "cell_type": "markdown",
      "source": [
        "Este código define dos clases para integrar modelos de machine learning y funciones de preprocesamiento en MLflow. La clase `ModelWrapper` envuelve un modelo, permitiendo realizar predicciones a través del método `predict`. La clase `PreprocessWrapper` envuelve una función de preprocesamiento, aplicándola a las entradas antes de que sean procesadas por el modelo. Ambas clases heredan de `PythonModel`, facilitando su uso en el ecosistema de MLflow.\n"
      ],
      "metadata": {
        "id": "cIuYMyyGLDOX"
      }
    },
    {
      "cell_type": "code",
      "source": [
        "class ModelWrapper(PythonModel):\n",
        "    def __init__(self, model):\n",
        "        self.model = model\n",
        "\n",
        "    def predict(self, context, model_input):\n",
        "        return self.model.predict(model_input)\n",
        "\n",
        "class PreprocessWrapper(PythonModel):\n",
        "    def __init__(self, preprocess_func):\n",
        "        self.preprocess_func = preprocess_func\n",
        "\n",
        "    def predict(self, context, model_input):\n",
        "        return self.preprocess_func(model_input)"
      ],
      "metadata": {
        "id": "E03H8OtoLYgC"
      },
      "execution_count": null,
      "outputs": []
    },
    {
      "cell_type": "markdown",
      "source": [
        "Vamos a cargar los modelos previamente entrenados desde archivos .joblib y los registra en un experimento de MLflow:"
      ],
      "metadata": {
        "id": "AYB87PX0L30T"
      }
    },
    {
      "cell_type": "code",
      "source": [
        "lda_model = load('/content/Practica/modelos/lda_model.joblib')\n",
        "sentiment_analysis_pipeline = load('/content/Practica/modelos/sentiment_analysis_pipeline.joblib')\n",
        "\n",
        "\n",
        "with mlflow.start_run(experiment_id=experiment):\n",
        "    mlflow.pyfunc.log_model(\n",
        "        \"lda_model\",\n",
        "        python_model=ModelWrapper(lda_model),\n",
        "        artifacts={\"joblib_model\": \"/content/Practica/modelos/lda_model.joblib\"},\n",
        "        pip_requirements=[\"joblib\", \"scikit-learn\"]\n",
        "    )\n",
        "\n",
        "    mlflow.pyfunc.log_model(\n",
        "        \"sentiment_analysis_pipeline\",\n",
        "        python_model=ModelWrapper(sentiment_analysis_pipeline),\n",
        "        artifacts={\"joblib_model\": \"/content/Practica/modelos/sentiment_analysis_pipeline.joblib\"},\n",
        "        pip_requirements=[\"joblib\", \"scikit-learn\"]\n",
        "    )\n",
        "\n",
        "    # Set the experiment name\n",
        "    mlflow.set_experiment(\"Practica\")\n"
      ],
      "metadata": {
        "id": "sPzC1VpdQQVs",
        "colab": {
          "base_uri": "https://localhost:8080/",
          "height": 136,
          "referenced_widgets": [
            "9693932277b5480fa89341b19d671724",
            "e3de9f1debdb496aadae5e8c974c938d",
            "af09a62e9b0d4d7ebe9e286e9eb9a34c",
            "aaf0fc9386084330866e8083ff5cfe86",
            "be4f1405ecc8421991b829fd806bd983",
            "482a9708494d4a0890718b09f2f74bde",
            "fd108e4846c8460dad78d287c5f8a84a",
            "ee393bcffbcc4084ae9b64f9e96bac1e",
            "64f32bf7a621406ea011e9e9d073bb2a",
            "c6f4e6bfd7a848b5b2a259a65b60259e",
            "8c62090f48ca4bf0b6dac0aa345fb127",
            "a85f9cb07ad740378079eb112f44f197",
            "a64d5099df27401aaab5a9d772b2dc31",
            "a78a6d2947194f429ed08c03a3695845",
            "043c542e949248ba8be32568bf4516c3",
            "5bfff38aa72a43748f7ed97ac4265ec4",
            "dabb9e4009364c3196a6db96110329e8",
            "d9e55e8f83a64ce897f38d3ca3b7c6a7",
            "c05159c5b08d4dafad0ffac389eaadc0",
            "67153de4338d44f4bd5bfa1c7d292a9d",
            "d75e0aefefea4a66baaf52be9549b5b4",
            "6437d3da12a44904835598458cb9b244"
          ]
        },
        "outputId": "238bbb2a-b3c4-4f49-fb33-b14df7bc5cd0"
      },
      "execution_count": null,
      "outputs": [
        {
          "output_type": "display_data",
          "data": {
            "text/plain": [
              "Downloading artifacts:   0%|          | 0/1 [00:00<?, ?it/s]"
            ],
            "application/vnd.jupyter.widget-view+json": {
              "version_major": 2,
              "version_minor": 0,
              "model_id": "9693932277b5480fa89341b19d671724"
            }
          },
          "metadata": {}
        },
        {
          "output_type": "stream",
          "name": "stderr",
          "text": [
            "\u001b[31m2025/09/02 08:37:36 WARNING mlflow.models.model: Model logged without a signature and input example. Please set `input_example` parameter when logging the model to auto infer the model signature.\u001b[0m\n"
          ]
        },
        {
          "output_type": "display_data",
          "data": {
            "text/plain": [
              "Downloading artifacts:   0%|          | 0/1 [00:00<?, ?it/s]"
            ],
            "application/vnd.jupyter.widget-view+json": {
              "version_major": 2,
              "version_minor": 0,
              "model_id": "a85f9cb07ad740378079eb112f44f197"
            }
          },
          "metadata": {}
        },
        {
          "output_type": "stream",
          "name": "stderr",
          "text": [
            "\u001b[31m2025/09/02 08:37:36 WARNING mlflow.models.model: Model logged without a signature and input example. Please set `input_example` parameter when logging the model to auto infer the model signature.\u001b[0m\n"
          ]
        }
      ]
    },
    {
      "cell_type": "markdown",
      "source": [
        "# **2.** Leer los modelos de MLflow"
      ],
      "metadata": {
        "id": "RmRFGa9DUm8J"
      }
    },
    {
      "cell_type": "code",
      "source": [
        "# Definimos la ruta donde están los modelos:\n",
        "base_path = '/content/Practica/mlflow/'\n",
        "directories = [d for d in os.listdir(base_path) if os.path.isdir(os.path.join(base_path, d))]\n",
        "most_recent_dir = max(directories, key=lambda d: os.path.getmtime(os.path.join(base_path, d)))\n",
        "\n",
        "full_path = '/content/Practica/mlflow/'+most_recent_dir\n",
        "base_path = full_path+'/'+[d for d in os.listdir(full_path) if os.path.isdir(os.path.join(full_path, d))][0]+'/artifacts'\n",
        "base_path"
      ],
      "metadata": {
        "id": "UwUq3XRnZb40",
        "colab": {
          "base_uri": "https://localhost:8080/",
          "height": 35
        },
        "outputId": "9045416d-edc8-4ecf-f163-c6fe01aef981"
      },
      "execution_count": null,
      "outputs": [
        {
          "output_type": "execute_result",
          "data": {
            "text/plain": [
              "'/content/Practica/mlflow/568786323053391264/b04be88ed57248719b02c57aeaa46f4a/artifacts'"
            ],
            "application/vnd.google.colaboratory.intrinsic+json": {
              "type": "string"
            }
          },
          "metadata": {},
          "execution_count": 9
        }
      ]
    },
    {
      "source": [
        "# Cargamos los modelos\n",
        "lda_model = load('/content/Practica/modelos/lda_model.joblib')\n",
        "pipeline = load('/content/Practica/modelos/sentiment_analysis_pipeline.joblib')\n",
        "\n",
        "\n",
        "with mlflow.start_run(experiment_id=experiment):\n",
        "    # Log the LDA model using mlflow.sklearn.log_model\n",
        "    mlflow.sklearn.log_model(lda_model, \"lda_model\")\n",
        "\n",
        "    # Log the sentiment analysis pipeline using mlflow.sklearn.log_model\n",
        "    mlflow.sklearn.log_model(sentiment_analysis_pipeline, \"sentiment_analysis_pipeline\")\n",
        "\n",
        "    # Set the experiment name\n",
        "    mlflow.set_experiment(\"Practica\")"
      ],
      "cell_type": "code",
      "metadata": {
        "id": "F0ixZ7phF_gl",
        "colab": {
          "base_uri": "https://localhost:8080/"
        },
        "outputId": "5ccb2553-2d12-4faf-ec95-243b339ccc31"
      },
      "execution_count": null,
      "outputs": [
        {
          "output_type": "stream",
          "name": "stderr",
          "text": [
            "2025/09/02 08:39:13 WARNING mlflow.sklearn: Model was missing function: predict. Not logging python_function flavor!\n",
            "\u001b[31m2025/09/02 08:39:18 WARNING mlflow.models.model: Model logged without a signature and input example. Please set `input_example` parameter when logging the model to auto infer the model signature.\u001b[0m\n",
            "\u001b[31m2025/09/02 08:39:23 WARNING mlflow.models.model: Model logged without a signature and input example. Please set `input_example` parameter when logging the model to auto infer the model signature.\u001b[0m\n"
          ]
        }
      ]
    },
    {
      "cell_type": "markdown",
      "source": [
        "# Aplicar el modelo a datos nuevos"
      ],
      "metadata": {
        "id": "wvDArkwXkndN"
      }
    },
    {
      "cell_type": "code",
      "source": [
        "# Check if an experiment with the name 'Model_change' already exists\n",
        "experiment = mlflow.get_experiment_by_name('Model_change')\n",
        "\n",
        "# If the experiment doesn't exist, create it\n",
        "if experiment is None:\n",
        "    experiment = mlflow.create_experiment('Model_change')\n",
        "else:\n",
        "    # If the experiment exists, create a new experiment with a different name\n",
        "    experiment_name = 'Model_change_' + datetime.now().strftime('%Y%m%d_%H%M%S')\n",
        "    experiment = mlflow.create_experiment(experiment_name)"
      ],
      "metadata": {
        "id": "dd47ocGXHa5K"
      },
      "execution_count": null,
      "outputs": []
    },
    {
      "cell_type": "markdown",
      "source": [
        "Creamos las funciones que necesitaremos para reevaluar el modelo"
      ],
      "metadata": {
        "id": "_GwCD_SQna9C"
      }
    },
    {
      "cell_type": "code",
      "source": [
        "# Descargar los datos NLTK necesarios\n",
        "nltk.download('stopwords')\n",
        "nltk.download('punkt')\n",
        "\n",
        "def preprocess_text(text):\n",
        "    \"\"\"Preproceso de texto convirtiendo a minúsculas, eliminando caracteres especiales y aplicando stemming\"\"\"\n",
        "    # Convertir a minúsculas\n",
        "    text = str(text).lower()\n",
        "\n",
        "    # Eliminar URLs, menciones y hashtags\n",
        "    text = re.sub(r'http\\S+|www\\S+|https\\S+', '', text)\n",
        "    text = re.sub(r'@\\w+', '', text)\n",
        "    text = re.sub(r'#\\w+', '', text)\n",
        "    text = re.sub(r'\\s*(apple|aapl|appl|rt|amp)\\s*', '', text)\n",
        "\n",
        "    # Eliminar caracteres especiales\n",
        "    text = re.sub(r'[^a-zA-Z\\s.,!?]', '', text)\n",
        "\n",
        "    # Aplicar stemming\n",
        "    stemmer = PorterStemmer()\n",
        "    words = text.split()\n",
        "    words = [stemmer.stem(word) for word in words]\n",
        "\n",
        "    return ' '.join(words)\n",
        "\n",
        "dump(preprocess_text, '/content/Practica/modelos/preprocess_text_function.joblib')\n",
        "\n",
        "\n",
        "# Convertir las etiquetas de sentimiento a valores numéricos enteros empezando desde 0 (obligatorio sólo si usamos un clasificador XGBoost)\n",
        "label_mapping = {\n",
        "    -1.0: 0,\n",
        "    0.0: 1,\n",
        "    1.0: 2\n",
        "}\n",
        "\n",
        "\n",
        "# Crear un vectorizador TF-IDF con bigramas\n",
        "tfidf = TfidfVectorizer(\n",
        "    stop_words='english',\n",
        "    ngram_range=(1, 2),\n",
        "    max_features=1000\n",
        ")\n",
        "\n",
        "preprocessor = make_column_transformer(\n",
        "    (tfidf, 'processed_text'),\n",
        ")\n",
        "\n",
        "\n",
        "def plot_confusion_matrix(y_true, y_pred, labels, title):\n",
        "    \"\"\"Visualizar la matriz de confusión\"\"\"\n",
        "    cm = confusion_matrix(y_true, y_pred)\n",
        "    plt.figure(figsize=(10, 8))\n",
        "    sns.heatmap(cm, annot=True, fmt='d', cmap='Blues',\n",
        "                xticklabels=labels, yticklabels=labels)\n",
        "    plt.title(f'Confusion Matrix - {title}')\n",
        "    plt.ylabel('True Label')\n",
        "    plt.xlabel('Predicted Label')\n",
        "    plt.show()\n",
        "\n",
        "def evaluate_model(y_true, y_pred, y_prob, labels, title):\n",
        "    \"\"\"Evaluar el modelo e imprimir métricas\"\"\"\n",
        "    print(f\"\\n=== Evaluación del Modelo sobre el {title} ===\")\n",
        "    print(\"\\nMatriz de Confusión:\")\n",
        "    plot_confusion_matrix(y_true, y_pred, labels, title)\n",
        "\n",
        "    print(\"\\nInforme de Clasificación:\")\n",
        "    print(classification_report(y_true, y_pred))\n",
        "\n",
        "    print(f\"\\nAccuracy Score ({title}):\", accuracy_score(y_true, y_pred))\n",
        "\n",
        "    # Calcular ROC AUC (uno-vs-resto para multiclases)\n",
        "    auc_scores = []\n",
        "    for i in range(len(labels)):\n",
        "        y_binary = (y_true == labels[i]).astype(int)\n",
        "        y_score = y_prob[:, i]\n",
        "        auc = roc_auc_score(y_binary, y_score)\n",
        "        auc_scores.append(auc)\n",
        "        print(f\"ROC AUC para la clase {labels[i]} ({title}): {auc:.3f}\")\n",
        "    print(f\"Average ROC AUC ({title}):\", np.mean(auc_scores))"
      ],
      "metadata": {
        "id": "UchTbs8QSH0t",
        "colab": {
          "base_uri": "https://localhost:8080/"
        },
        "outputId": "63a34416-27ad-4f00-df31-dfa0076bc49a"
      },
      "execution_count": null,
      "outputs": [
        {
          "output_type": "stream",
          "name": "stderr",
          "text": [
            "[nltk_data] Downloading package stopwords to /root/nltk_data...\n",
            "[nltk_data]   Unzipping corpora/stopwords.zip.\n",
            "[nltk_data] Downloading package punkt to /root/nltk_data...\n",
            "[nltk_data]   Unzipping tokenizers/punkt.zip.\n"
          ]
        }
      ]
    },
    {
      "cell_type": "markdown",
      "source": [
        "Leemos los datos nuevos"
      ],
      "metadata": {
        "id": "xh0JKWxINIdF"
      }
    },
    {
      "cell_type": "code",
      "source": [
        "df = pd.read_csv('/content/Practica/datasets/Apple-Twitter-Sentiment_new.csv', sep=',', encoding='latin-1', on_bad_lines='warn')\n",
        "\n",
        "#Aplicar el modelo a los nuevos datos:\n",
        "df['processed_text'] = df['tweets'].apply(preprocess_text)\n",
        "df['labels'] = df['labels'].map(label_mapping)\n",
        "new_data = df[df['labels'].notnull()]\n",
        "\n",
        "y = new_data['labels']\n",
        "new_data = new_data.drop(columns='labels', errors='ignore')\n",
        "\n",
        "predictions = pipeline.predict(new_data)\n",
        "labels = sorted(y.unique())\n",
        "\n",
        "# Evaluación del modelo con la matriz de confusión\n",
        "plot_confusion_matrix(y,predictions,labels,'Matriz de confusión')"
      ],
      "metadata": {
        "id": "Yt1fonnrlAHr",
        "colab": {
          "base_uri": "https://localhost:8080/",
          "height": 718
        },
        "outputId": "fd6ed9f2-696b-4b64-8d9c-2221d6921727"
      },
      "execution_count": null,
      "outputs": [
        {
          "output_type": "display_data",
          "data": {
            "text/plain": [
              "<Figure size 1000x800 with 2 Axes>"
            ],
            "image/png": "[encoded data removed]"
          },
          "metadata": {}
        }
      ]
    },
    {
      "cell_type": "markdown",
      "source": [
        "Si queremos reentrenar el modelo, podemos volver al ejercicio anterior y hacerlo con los nuevos datos:"
      ],
      "metadata": {
        "id": "oMwqg-WpdJ0p"
      }
    },
    {
      "cell_type": "markdown",
      "source": [
        "## Reentrenamiento del modelo"
      ],
      "metadata": {
        "id": "WZjs-lm2demM"
      }
    },
    {
      "cell_type": "code",
      "source": [
        "df = pd.read_csv('/content/Practica/datasets/Apple-Twitter-Sentiment_new.csv', sep=',', encoding='latin-1', on_bad_lines='warn')\n",
        "df['processed_text'] = df['tweets'].apply(preprocess_text)\n",
        "df['labels'] = df['labels'].map(label_mapping)\n",
        "\n",
        "X = df.drop(columns='labels', errors='ignore')\n",
        "y = df['labels']\n",
        "\n",
        "X_train, X_test, y_train, y_test = train_test_split(X, y, test_size=0.2, random_state=42, stratify=y)\n",
        "\n",
        "# Crear un pipeline\n",
        "pipeline = Pipeline([\n",
        "    ('preprocessor', preprocessor),\n",
        "    ('classifier', XGBClassifier(random_state=42, n_estimators=300,\n",
        "    max_depth=3, learning_rate=0.3, subsample=1.0,\n",
        "    colsample_bytree=0.8, gamma=0.2))\n",
        "])\n",
        "\n",
        "# Ajustar el pipeline a los datos de entrenamiento\n",
        "pipeline.fit(X_train, y_train)"
      ],
      "metadata": {
        "id": "lrS9XGxDdHOU",
        "colab": {
          "base_uri": "https://localhost:8080/",
          "height": 192
        },
        "outputId": "27a2708a-433e-4103-afaf-4703302aa66a"
      },
      "execution_count": null,
      "outputs": [
        {
          "output_type": "execute_result",
          "data": {
            "text/plain": [
              "Pipeline(steps=[('preprocessor',\n",
              "                 ColumnTransformer(transformers=[('tfidfvectorizer',\n",
              "                                                  TfidfVectorizer(max_features=1000,\n",
              "                                                                  ngram_range=(1,\n",
              "                                                                               2),\n",
              "                                                                  stop_words='english'),\n",
              "                                                  'processed_text')])),\n",
              "                ('classifier',\n",
              "                 XGBClassifier(base_score=None, booster=None, callbacks=None,\n",
              "                               colsample_bylevel=None, colsample_bynode=None,\n",
              "                               colsample_bytree=0.8, device=None,\n",
              "                               early_stopping_rounds=...\n",
              "                               feature_types=None, feature_weights=None,\n",
              "                               gamma=0.2, grow_policy=None,\n",
              "                               importance_type=None,\n",
              "                               interaction_constraints=None, learning_rate=0.3,\n",
              "                               max_bin=None, max_cat_threshold=None,\n",
              "                               max_cat_to_onehot=None, max_delta_step=None,\n",
              "                               max_depth=3, max_leaves=None,\n",
              "                               min_child_weight=None, missing=nan,\n",
              "                               monotone_constraints=None, multi_strategy=None,\n",
              "                               n_estimators=300, n_jobs=None,\n",
              "                               num_parallel_tree=None, ...))])"
            ],
            "text/html": [
              "<style>#sk-container-id-1 {color: black;}#sk-container-id-1 pre{padding: 0;}#sk-container-id-1 div.sk-toggleable {background-color: white;}#sk-container-id-1 label.sk-toggleable__label {cursor: pointer;display: block;width: 100%;margin-bottom: 0;padding: 0.3em;box-sizing: border-box;text-align: center;}#sk-container-id-1 label.sk-toggleable__label-arrow:before {content: \"▸\";float: left;margin-right: 0.25em;color: #696969;}#sk-container-id-1 label.sk-toggleable__label-arrow:hover:before {color: black;}#sk-container-id-1 div.sk-estimator:hover label.sk-toggleable__label-arrow:before {color: black;}#sk-container-id-1 div.sk-toggleable__content {max-height: 0;max-width: 0;overflow: hidden;text-align: left;background-color: #f0f8ff;}#sk-container-id-1 div.sk-toggleable__content pre {margin: 0.2em;color: black;border-radius: 0.25em;background-color: #f0f8ff;}#sk-container-id-1 input.sk-toggleable__control:checked~div.sk-toggleable__content {max-height: 200px;max-width: 100%;overflow: auto;}#sk-container-id-1 input.sk-toggleable__control:checked~label.sk-toggleable__label-arrow:before {content: \"▾\";}#sk-container-id-1 div.sk-estimator input.sk-toggleable__control:checked~label.sk-toggleable__label {background-color: #d4ebff;}#sk-container-id-1 div.sk-label input.sk-toggleable__control:checked~label.sk-toggleable__label {background-color: #d4ebff;}#sk-container-id-1 input.sk-hidden--visually {border: 0;clip: rect(1px 1px 1px 1px);clip: rect(1px, 1px, 1px, 1px);height: 1px;margin: -1px;overflow: hidden;padding: 0;position: absolute;width: 1px;}#sk-container-id-1 div.sk-estimator {font-family: monospace;background-color: #f0f8ff;border: 1px dotted black;border-radius: 0.25em;box-sizing: border-box;margin-bottom: 0.5em;}#sk-container-id-1 div.sk-estimator:hover {background-color: #d4ebff;}#sk-container-id-1 div.sk-parallel-item::after {content: \"\";width: 100%;border-bottom: 1px solid gray;flex-grow: 1;}#sk-container-id-1 div.sk-label:hover label.sk-toggleable__label {background-color: #d4ebff;}#sk-container-id-1 div.sk-serial::before {content: \"\";position: absolute;border-left: 1px solid gray;box-sizing: border-box;top: 0;bottom: 0;left: 50%;z-index: 0;}#sk-container-id-1 div.sk-serial {display: flex;flex-direction: column;align-items: center;background-color: white;padding-right: 0.2em;padding-left: 0.2em;position: relative;}#sk-container-id-1 div.sk-item {position: relative;z-index: 1;}#sk-container-id-1 div.sk-parallel {display: flex;align-items: stretch;justify-content: center;background-color: white;position: relative;}#sk-container-id-1 div.sk-item::before, #sk-container-id-1 div.sk-parallel-item::before {content: \"\";position: absolute;border-left: 1px solid gray;box-sizing: border-box;top: 0;bottom: 0;left: 50%;z-index: -1;}#sk-container-id-1 div.sk-parallel-item {display: flex;flex-direction: column;z-index: 1;position: relative;background-color: white;}#sk-container-id-1 div.sk-parallel-item:first-child::after {align-self: flex-end;width: 50%;}#sk-container-id-1 div.sk-parallel-item:last-child::after {align-self: flex-start;width: 50%;}#sk-container-id-1 div.sk-parallel-item:only-child::after {width: 0;}#sk-container-id-1 div.sk-dashed-wrapped {border: 1px dashed gray;margin: 0 0.4em 0.5em 0.4em;box-sizing: border-box;padding-bottom: 0.4em;background-color: white;}#sk-container-id-1 div.sk-label label {font-family: monospace;font-weight: bold;display: inline-block;line-height: 1.2em;}#sk-container-id-1 div.sk-label-container {text-align: center;}#sk-container-id-1 div.sk-container {/* jupyter's `normalize.less` sets `[hidden] { display: none; }` but bootstrap.min.css set `[hidden] { display: none !important; }` so we also need the `!important` here to be able to override the default hidden behavior on the sphinx rendered scikit-learn.org. See: https://github.com/scikit-learn/scikit-learn/issues/21755 */display: inline-block !important;position: relative;}#sk-container-id-1 div.sk-text-repr-fallback {display: none;}</style><div id=\"sk-container-id-1\" class=\"sk-top-container\"><div class=\"sk-text-repr-fallback\"><pre>Pipeline(steps=[(&#x27;preprocessor&#x27;,\n",
              "                 ColumnTransformer(transformers=[(&#x27;tfidfvectorizer&#x27;,\n",
              "                                                  TfidfVectorizer(max_features=1000,\n",
              "                                                                  ngram_range=(1,\n",
              "                                                                               2),\n",
              "                                                                  stop_words=&#x27;english&#x27;),\n",
              "                                                  &#x27;processed_text&#x27;)])),\n",
              "                (&#x27;classifier&#x27;,\n",
              "                 XGBClassifier(base_score=None, booster=None, callbacks=None,\n",
              "                               colsample_bylevel=None, colsample_bynode=None,\n",
              "                               colsample_bytree=0.8, device=None,\n",
              "                               early_stopping_rounds=...\n",
              "                               feature_types=None, feature_weights=None,\n",
              "                               gamma=0.2, grow_policy=None,\n",
              "                               importance_type=None,\n",
              "                               interaction_constraints=None, learning_rate=0.3,\n",
              "                               max_bin=None, max_cat_threshold=None,\n",
              "                               max_cat_to_onehot=None, max_delta_step=None,\n",
              "                               max_depth=3, max_leaves=None,\n",
              "                               min_child_weight=None, missing=nan,\n",
              "                               monotone_constraints=None, multi_strategy=None,\n",
              "                               n_estimators=300, n_jobs=None,\n",
              "                               num_parallel_tree=None, ...))])</pre><b>In a Jupyter environment, please rerun this cell to show the HTML representation or trust the notebook. <br />On GitHub, the HTML representation is unable to render, please try loading this page with nbviewer.org.</b></div><div class=\"sk-container\" hidden><div class=\"sk-item sk-dashed-wrapped\"><div class=\"sk-label-container\"><div class=\"sk-label sk-toggleable\"><input class=\"sk-toggleable__control sk-hidden--visually\" id=\"sk-estimator-id-1\" type=\"checkbox\" ><label for=\"sk-estimator-id-1\" class=\"sk-toggleable__label sk-toggleable__label-arrow\">Pipeline</label><div class=\"sk-toggleable__content\"><pre>Pipeline(steps=[(&#x27;preprocessor&#x27;,\n",
              "                 ColumnTransformer(transformers=[(&#x27;tfidfvectorizer&#x27;,\n",
              "                                                  TfidfVectorizer(max_features=1000,\n",
              "                                                                  ngram_range=(1,\n",
              "                                                                               2),\n",
              "                                                                  stop_words=&#x27;english&#x27;),\n",
              "                                                  &#x27;processed_text&#x27;)])),\n",
              "                (&#x27;classifier&#x27;,\n",
              "                 XGBClassifier(base_score=None, booster=None, callbacks=None,\n",
              "                               colsample_bylevel=None, colsample_bynode=None,\n",
              "                               colsample_bytree=0.8, device=None,\n",
              "                               early_stopping_rounds=...\n",
              "                               feature_types=None, feature_weights=None,\n",
              "                               gamma=0.2, grow_policy=None,\n",
              "                               importance_type=None,\n",
              "                               interaction_constraints=None, learning_rate=0.3,\n",
              "                               max_bin=None, max_cat_threshold=None,\n",
              "                               max_cat_to_onehot=None, max_delta_step=None,\n",
              "                               max_depth=3, max_leaves=None,\n",
              "                               min_child_weight=None, missing=nan,\n",
              "                               monotone_constraints=None, multi_strategy=None,\n",
              "                               n_estimators=300, n_jobs=None,\n",
              "                               num_parallel_tree=None, ...))])</pre></div></div></div><div class=\"sk-serial\"><div class=\"sk-item sk-dashed-wrapped\"><div class=\"sk-label-container\"><div class=\"sk-label sk-toggleable\"><input class=\"sk-toggleable__control sk-hidden--visually\" id=\"sk-estimator-id-2\" type=\"checkbox\" ><label for=\"sk-estimator-id-2\" class=\"sk-toggleable__label sk-toggleable__label-arrow\">preprocessor: ColumnTransformer</label><div class=\"sk-toggleable__content\"><pre>ColumnTransformer(transformers=[(&#x27;tfidfvectorizer&#x27;,\n",
              "                                 TfidfVectorizer(max_features=1000,\n",
              "                                                 ngram_range=(1, 2),\n",
              "                                                 stop_words=&#x27;english&#x27;),\n",
              "                                 &#x27;processed_text&#x27;)])</pre></div></div></div><div class=\"sk-parallel\"><div class=\"sk-parallel-item\"><div class=\"sk-item\"><div class=\"sk-label-container\"><div class=\"sk-label sk-toggleable\"><input class=\"sk-toggleable__control sk-hidden--visually\" id=\"sk-estimator-id-3\" type=\"checkbox\" ><label for=\"sk-estimator-id-3\" class=\"sk-toggleable__label sk-toggleable__label-arrow\">tfidfvectorizer</label><div class=\"sk-toggleable__content\"><pre>processed_text</pre></div></div></div><div class=\"sk-serial\"><div class=\"sk-item\"><div class=\"sk-estimator sk-toggleable\"><input class=\"sk-toggleable__control sk-hidden--visually\" id=\"sk-estimator-id-4\" type=\"checkbox\" ><label for=\"sk-estimator-id-4\" class=\"sk-toggleable__label sk-toggleable__label-arrow\">TfidfVectorizer</label><div class=\"sk-toggleable__content\"><pre>TfidfVectorizer(max_features=1000, ngram_range=(1, 2), stop_words=&#x27;english&#x27;)</pre></div></div></div></div></div></div></div></div><div class=\"sk-item\"><div class=\"sk-estimator sk-toggleable\"><input class=\"sk-toggleable__control sk-hidden--visually\" id=\"sk-estimator-id-5\" type=\"checkbox\" ><label for=\"sk-estimator-id-5\" class=\"sk-toggleable__label sk-toggleable__label-arrow\">XGBClassifier</label><div class=\"sk-toggleable__content\"><pre>XGBClassifier(base_score=None, booster=None, callbacks=None,\n",
              "              colsample_bylevel=None, colsample_bynode=None,\n",
              "              colsample_bytree=0.8, device=None, early_stopping_rounds=None,\n",
              "              enable_categorical=False, eval_metric=None, feature_types=None,\n",
              "              feature_weights=None, gamma=0.2, grow_policy=None,\n",
              "              importance_type=None, interaction_constraints=None,\n",
              "              learning_rate=0.3, max_bin=None, max_cat_threshold=None,\n",
              "              max_cat_to_onehot=None, max_delta_step=None, max_depth=3,\n",
              "              max_leaves=None, min_child_weight=None, missing=nan,\n",
              "              monotone_constraints=None, multi_strategy=None, n_estimators=300,\n",
              "              n_jobs=None, num_parallel_tree=None, ...)</pre></div></div></div></div></div></div></div>"
            ]
          },
          "metadata": {},
          "execution_count": 14
        }
      ]
    },
    {
      "cell_type": "markdown",
      "source": [
        "### Evaluación del modelo\n",
        "\n",
        "No nos detendremos demasiado en los detalles de la evaluación de estos resultados. Pero supongamos que se mejora radicalmente el performance del modelo ahora con esta actualización."
      ],
      "metadata": {
        "id": "_0VP5zZDmEJB"
      }
    },
    {
      "cell_type": "code",
      "source": [
        "# Emplear el modelo predictivo sobre el conjunto de entrenamiento\n",
        "train_predictions =  pipeline.predict(X_train)\n",
        "train_proba = pipeline.predict_proba(X_train)\n",
        "\n",
        "# Emplear el modelo predictivo sobre el conjunto de prueba\n",
        "test_predictions = pipeline.predict(X_test)\n",
        "test_proba = pipeline.predict_proba(X_test)\n",
        "\n",
        "\n",
        "# Evaluar el modelo sobre ambos conjuntos\n",
        "labels = sorted(y.unique())\n",
        "evaluate_model(y_train, train_predictions, train_proba, labels, \"Conjunto de Entrenamiento (training dataset)\")\n",
        "evaluate_model(y_test, test_predictions, test_proba, labels, \"Conjunto de Prueba (test dataset)\")"
      ],
      "metadata": {
        "id": "qRrVcDWbgA5A",
        "colab": {
          "base_uri": "https://localhost:8080/",
          "height": 1000
        },
        "outputId": "f0cac991-c4ca-4362-e447-8b2bc23d5454"
      },
      "execution_count": null,
      "outputs": [
        {
          "output_type": "stream",
          "name": "stdout",
          "text": [
            "\n",
            "=== Evaluación del Modelo sobre el Conjunto de Entrenamiento (training dataset) ===\n",
            "\n",
            "Matriz de Confusión:\n"
          ]
        },
        {
          "output_type": "display_data",
          "data": {
            "text/plain": [
              "<Figure size 1000x800 with 2 Axes>"
            ],
            "image/png": "[encoded data removed]"
          },
          "metadata": {}
        },
        {
          "output_type": "stream",
          "name": "stdout",
          "text": [
            "\n",
            "Informe de Clasificación:\n",
            "              precision    recall  f1-score   support\n",
            "\n",
            "           0       0.96      0.84      0.89      1661\n",
            "           1       0.86      0.98      0.92      2583\n",
            "           2       0.95      0.67      0.78       512\n",
            "\n",
            "    accuracy                           0.90      4756\n",
            "   macro avg       0.92      0.83      0.87      4756\n",
            "weighted avg       0.91      0.90      0.89      4756\n",
            "\n",
            "\n",
            "Accuracy Score (Conjunto de Entrenamiento (training dataset)): 0.8976030277544155\n",
            "ROC AUC para la clase 0 (Conjunto de Entrenamiento (training dataset)): 0.976\n",
            "ROC AUC para la clase 1 (Conjunto de Entrenamiento (training dataset)): 0.968\n",
            "ROC AUC para la clase 2 (Conjunto de Entrenamiento (training dataset)): 0.978\n",
            "Average ROC AUC (Conjunto de Entrenamiento (training dataset)): 0.9741011537421594\n",
            "\n",
            "=== Evaluación del Modelo sobre el Conjunto de Prueba (test dataset) ===\n",
            "\n",
            "Matriz de Confusión:\n"
          ]
        },
        {
          "output_type": "display_data",
          "data": {
            "text/plain": [
              "<Figure size 1000x800 with 2 Axes>"
            ],
            "image/png": "[encoded data removed]"
          },
          "metadata": {}
        },
        {
          "output_type": "stream",
          "name": "stdout",
          "text": [
            "\n",
            "Informe de Clasificación:\n",
            "              precision    recall  f1-score   support\n",
            "\n",
            "           0       0.81      0.67      0.73       416\n",
            "           1       0.76      0.90      0.82       646\n",
            "           2       0.73      0.41      0.53       128\n",
            "\n",
            "    accuracy                           0.77      1190\n",
            "   macro avg       0.76      0.66      0.69      1190\n",
            "weighted avg       0.77      0.77      0.76      1190\n",
            "\n",
            "\n",
            "Accuracy Score (Conjunto de Prueba (test dataset)): 0.7689075630252101\n",
            "ROC AUC para la clase 0 (Conjunto de Prueba (test dataset)): 0.888\n",
            "ROC AUC para la clase 1 (Conjunto de Prueba (test dataset)): 0.863\n",
            "ROC AUC para la clase 2 (Conjunto de Prueba (test dataset)): 0.835\n",
            "Average ROC AUC (Conjunto de Prueba (test dataset)): 0.8618335291696281\n"
          ]
        }
      ]
    },
    {
      "cell_type": "markdown",
      "source": [
        "## Guardar el nuevo modelo\n",
        "\n",
        "\n",
        "Dado que hemos mejorado el poder predictivo del modelo, vamos a guardar esta nueva versión. En el futuro, cargaremos esta última versión y no la anterior.\n",
        "\n",
        "En el caso que el modelo vuelva a desajustarse, repetiremos todo el proceso desde el paso 2.\n"
      ],
      "metadata": {
        "id": "IGx36KkJhqoz"
      }
    },
    {
      "cell_type": "code",
      "source": [
        "with mlflow.start_run(experiment_id=experiment):\n",
        "  mlflow.sklearn.log_model(pipeline, \"sentiment_analysis\", registered_model_name=\"sentiment_analysis_pipeline\")\n",
        "  print(\"Model saved successfully.\")\n",
        "\n",
        "  # Set the experiment name\n",
        "  mlflow.set_experiment(\"Actualizac_modelo\")\n"
      ],
      "metadata": {
        "id": "lTQO3V0ZhqPX",
        "colab": {
          "base_uri": "https://localhost:8080/"
        },
        "outputId": "633619c6-6f7d-4034-d496-daf22dfbd667"
      },
      "execution_count": null,
      "outputs": [
        {
          "output_type": "stream",
          "name": "stderr",
          "text": [
            "\u001b[31m2025/09/02 08:49:30 WARNING mlflow.models.model: Model logged without a signature and input example. Please set `input_example` parameter when logging the model to auto infer the model signature.\u001b[0m\n"
          ]
        },
        {
          "output_type": "stream",
          "name": "stdout",
          "text": [
            "Model saved successfully.\n"
          ]
        },
        {
          "output_type": "stream",
          "name": "stderr",
          "text": [
            "Registered model 'sentiment_analysis_pipeline' already exists. Creating a new version of this model...\n",
            "Created version '6' of model 'sentiment_analysis_pipeline'.\n"
          ]
        }
      ]
    },
    {
      "cell_type": "markdown",
      "source": [
        "# **3.** Aplicar los cambios y guardarlos en GitHub"
      ],
      "metadata": {
        "id": "DmaHmI74kOU6"
      }
    },
    {
      "cell_type": "code",
      "source": [
        "'''\n",
        "# La primera vez, vamos a tener que generar nuestra llave única y guardarla en un sitio seguro\n",
        "!ssh-keygen -t rsa -b 4096 -C \"tuemail@unir.edu\" -f /content/drive/MyDrive/id_rsa -N \"\"\n",
        "print(\"Copia la siguiente información para crear tu acceso SSH desde gitHub\")\n",
        "!cat /content/drive/MyDrive/id_rsa.pub\n",
        "'''"
      ],
      "metadata": {
        "id": "kqCmQyQhYjl_"
      },
      "execution_count": null,
      "outputs": []
    },
    {
      "cell_type": "markdown",
      "source": [
        "A continuación, vamos a leer el archivo que contiene las credenciales únicas de acceso y que hemos registrado en nuestro perfil de gitHub:"
      ],
      "metadata": {
        "id": "VMniIBeAj2Jl"
      }
    },
    {
      "cell_type": "code",
      "source": [
        "import subprocess\n",
        "import os\n",
        "# Create .ssh directory if it doesn't exist\n",
        "os.makedirs(os.path.expanduser('~/.ssh'), exist_ok=True)\n",
        "\n",
        "# Create known_hosts file if it doesn't exist\n",
        "known_hosts_path = os.path.expanduser('~/.ssh/known_hosts')\n",
        "if not os.path.exists(known_hosts_path):\n",
        "    open(known_hosts_path, 'a').close()  # Create an empty known_hosts file\n",
        "\n",
        "!ssh-keyscan -t rsa github.com >> ~/.ssh/known_hosts\n",
        "\n",
        "# Step 1: Start the SSH agent\n",
        "def start_ssh_agent():\n",
        "    # Start the SSH agent\n",
        "    process = subprocess.Popen(['ssh-agent'], stdout=subprocess.PIPE)\n",
        "    output, _ = process.communicate()\n",
        "\n",
        "    # Set environment variables for the current session\n",
        "    for line in output.decode().strip().split('\\n'):\n",
        "        if 'SSH_AUTH_SOCK' in line or 'SSH_AGENT_PID' in line:\n",
        "            key, value = line.split(';')[0].strip().split('=')\n",
        "            os.environ[key] = value\n",
        "\n",
        "# Step 2: Add your private key from Google Drive\n",
        "def add_private_key(key_path):\n",
        "    # Add the private key to the SSH agent\n",
        "    result = subprocess.run(['ssh-add', key_path], capture_output=True, text=True)\n",
        "    if result.returncode == 0:\n",
        "        print(\"SSH key added successfully.\")\n",
        "    else:\n",
        "        print(\"Error adding SSH key:\")\n",
        "        print(result.stderr)\n",
        "\n",
        "# Execute the functions\n",
        "start_ssh_agent()\n",
        "\n",
        "# Path to your private key in Google Drive\n",
        "private_key_path = '/content/drive/MyDrive/id_rsa'  # Adjust this path as necessary\n",
        "\n",
        "# Add the private key to the agent\n",
        "add_private_key(private_key_path)\n",
        "\n",
        "# Optional: Test SSH connection to GitHub\n",
        "print(\"Testing SSH connection to GitHub...\")\n",
        "test_connection = subprocess.run(['ssh', '-T', 'git@github.com'], capture_output=True, text=True)\n",
        "print(test_connection.stdout if test_connection.returncode == 0 else test_connection.stderr)\n"
      ],
      "metadata": {
        "id": "MKLXq1z7cpBg",
        "colab": {
          "base_uri": "https://localhost:8080/"
        },
        "outputId": "3ee2c0ae-24e8-40c9-a770-6b0f008d4399"
      },
      "execution_count": null,
      "outputs": [
        {
          "output_type": "stream",
          "name": "stdout",
          "text": [
            "# github.com:22 SSH-2.0-88f9acd9\n",
            "SSH key added successfully.\n",
            "Testing SSH connection to GitHub...\n",
            "Hi grupo4masteria-dotcom! You've successfully authenticated, but GitHub does not provide shell access.\n",
            "\n"
          ]
        }
      ]
    },
    {
      "cell_type": "markdown",
      "source": [
        "Vamos a guardar todos los cambios en nuestro repositorio de Git:"
      ],
      "metadata": {
        "id": "aw6WF229lTIQ"
      }
    },
    {
      "cell_type": "code",
      "source": [
        "%cd /content/Practica\n",
        "!git config --global user.name \"Grupo 4\"\n",
        "!git config --global user.email \"grupo4masteria@gmail.com\"\n",
        "\n",
        "!git init\n",
        "!git remote -v\n",
        "!git remote remove origin\n",
        "\n",
        "!git remote add origin git@github.com:grupo4masteria-dotcom/Actividad02.git # Cambia la dirección del repositorio\n",
        "\n",
        "!git status\n",
        "!git add .\n",
        "!git commit -m \"Update repository with files from Practica\"\n",
        "!git push -f origin main\n"
      ],
      "metadata": {
        "id": "6nPOi1o6hpqx",
        "collapsed": true,
        "colab": {
          "base_uri": "https://localhost:8080/"
        },
        "outputId": "30449e2f-c573-4a1a-e859-5ca659cdef22"
      },
      "execution_count": null,
      "outputs": [
        {
          "output_type": "stream",
          "name": "stdout",
          "text": [
            "/content/Practica\n",
            "Reinitialized existing Git repository in /content/Practica/.git/\n",
            "origin\tgit@github.com:grupo4masteria-dotcom/Actividad02.git (fetch)\n",
            "origin\tgit@github.com:grupo4masteria-dotcom/Actividad02.git (push)\n",
            "On branch main\n",
            "nothing to commit, working tree clean\n",
            "On branch main\n",
            "nothing to commit, working tree clean\n",
            "Everything up-to-date\n"
          ]
        }
      ]
    }
  ]
}